{
  "nbformat": 4,
  "nbformat_minor": 0,
  "metadata": {
    "colab": {
      "name": "Untitled1.ipynb",
      "provenance": [],
      "authorship_tag": "ABX9TyOahYTcZZrVmemJT/+HF7+a",
      "include_colab_link": true
    },
    "kernelspec": {
      "name": "python3",
      "display_name": "Python 3"
    }
  },
  "cells": [
    {
      "cell_type": "markdown",
      "metadata": {
        "id": "view-in-github",
        "colab_type": "text"
      },
      "source": [
        "<a href=\"https://colab.research.google.com/github/andresec20/genji/blob/master/Clase%202.ipynb\" target=\"_parent\"><img src=\"https://colab.research.google.com/assets/colab-badge.svg\" alt=\"Open In Colab\"/></a>"
      ]
    },
    {
      "cell_type": "code",
      "metadata": {
        "id": "uKn067nfiOWy",
        "colab_type": "code",
        "colab": {
          "base_uri": "https://localhost:8080/",
          "height": 34
        },
        "outputId": "4455664b-043c-49b3-a155-2a06f4ff2b65"
      },
      "source": [
        "x = 0\n",
        "print(x)\n"
      ],
      "execution_count": 2,
      "outputs": [
        {
          "output_type": "stream",
          "text": [
            "0\n"
          ],
          "name": "stdout"
        }
      ]
    },
    {
      "cell_type": "code",
      "metadata": {
        "id": "0yto0yC5lqsW",
        "colab_type": "code",
        "colab": {
          "base_uri": "https://localhost:8080/",
          "height": 34
        },
        "outputId": "2925324a-8aac-4a62-ab34-5a4453a047e9"
      },
      "source": [
        "y = 0.0\n",
        "z = True\n",
        "f = \"\"\n",
        "w = null\n",
        "\n",
        "print(y)"
      ],
      "execution_count": 3,
      "outputs": [
        {
          "output_type": "stream",
          "text": [
            "0.0\n"
          ],
          "name": "stdout"
        }
      ]
    },
    {
      "cell_type": "code",
      "metadata": {
        "id": "mkr7w7s3nAkf",
        "colab_type": "code",
        "colab": {}
      },
      "source": [
        "import cv2"
      ],
      "execution_count": 0,
      "outputs": []
    },
    {
      "cell_type": "code",
      "metadata": {
        "id": "zxD9IptDne35",
        "colab_type": "code",
        "colab": {
          "base_uri": "https://localhost:8080/",
          "height": 34
        },
        "outputId": "70ceb0f4-04af-45a9-e86e-dd64ae5f7fcb"
      },
      "source": [
        "def suma (d,w):\n",
        "  return d+w\n",
        "suma (2,3)\n"
      ],
      "execution_count": 13,
      "outputs": [
        {
          "output_type": "execute_result",
          "data": {
            "text/plain": [
              "5"
            ]
          },
          "metadata": {
            "tags": []
          },
          "execution_count": 13
        }
      ]
    },
    {
      "cell_type": "code",
      "metadata": {
        "id": "-iNj4u5ZqYLE",
        "colab_type": "code",
        "colab": {
          "base_uri": "https://localhost:8080/",
          "height": 34
        },
        "outputId": "511d02d9-7832-401a-8ebe-96bbe38e87d8"
      },
      "source": [
        "def perimetro (a):\n",
        "  r = (a*4)\n",
        "  return r \n",
        "def area (a):\n",
        "  q = (a*a)\n",
        "  return q\n",
        "def cuadrado (a):\n",
        "  \n",
        "  return perimetro (a),area (a)\n",
        "\n",
        "cuadrado (6) \n",
        "\n",
        "\n"
      ],
      "execution_count": 32,
      "outputs": [
        {
          "output_type": "execute_result",
          "data": {
            "text/plain": [
              "(24, 36)"
            ]
          },
          "metadata": {
            "tags": []
          },
          "execution_count": 32
        }
      ]
    },
    {
      "cell_type": "markdown",
      "metadata": {
        "id": "gpgPkIt84d23",
        "colab_type": "text"
      },
      "source": [
        "Creamos listas.\n",
        "\n",
        "```\n",
        "# Esto tiene formato de código\n",
        "```\n",
        "\n"
      ]
    },
    {
      "cell_type": "code",
      "metadata": {
        "id": "tehnqMRlyMuN",
        "colab_type": "code",
        "colab": {
          "base_uri": "https://localhost:8080/",
          "height": 50
        },
        "outputId": "41c75826-1921-4d0d-9bcb-6555c49cc93a"
      },
      "source": [
        "q = [1,2,3,4,5]\n",
        "w = [6,7,8,9,10]\n",
        "e = [11,12,13,14,15]\n",
        "r = [16,17,18,19,20]\n",
        "q.append(w)\n",
        "e.append(r)\n",
        "print (q,e)\n",
        "\n",
        "w.remove(8)\n",
        "print (w)\n"
      ],
      "execution_count": 53,
      "outputs": [
        {
          "output_type": "stream",
          "text": [
            "[1, 2, 3, 4, 5, [6, 7, 8, 9, 10]] [11, 12, 13, 14, 15, [16, 17, 18, 19, 20]]\n",
            "[6, 7, 9, 10]\n"
          ],
          "name": "stdout"
        }
      ]
    },
    {
      "cell_type": "code",
      "metadata": {
        "id": "MZIO-ov5679T",
        "colab_type": "code",
        "colab": {}
      },
      "source": [
        ""
      ],
      "execution_count": 0,
      "outputs": []
    }
  ]
}